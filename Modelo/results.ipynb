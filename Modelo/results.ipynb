{
 "cells": [
  {
   "cell_type": "code",
   "execution_count": 1,
   "metadata": {},
   "outputs": [],
   "source": [
    "import numpy as np\n",
    "import pandas as pd\n",
    "import pickle\n",
    "import os\n",
    "import seaborn as sns\n",
    "import matplotlib.pyplot as plt\n",
    "\n",
    "from matplotlib.colors import LogNorm, PowerNorm"
   ]
  },
  {
   "cell_type": "code",
   "execution_count": 2,
   "metadata": {},
   "outputs": [],
   "source": [
    "def read_dataframe(PATH, N):\n",
    "    df = pd.DataFrame()\n",
    "    input_id = 0\n",
    "    gra = 7\n",
    "    N_PCs = 15\n",
    "\n",
    "    for i in range(N):\n",
    "        results_dict = pickle.load(open(PATH %(i),'rb'))\n",
    "        if type(results_dict) != str:\n",
    "            n_classifiers = len(results_dict.keys())\n",
    "            for clf in results_dict.keys():\n",
    "                aux_dict = results_dict[clf]\n",
    "                aux_dict['N_PCs'] = N_PCs\n",
    "                aux_dict['Granularity'] = gra\n",
    "                aux_dict['Classifier'] = clf\n",
    "                aux_dict['Iteration'] = i\n",
    "                aux_dict['Time'] = results_dict[clf]['time']\n",
    "                df = df.append(aux_dict, ignore_index=True)\n",
    "                        \n",
    "    return df"
   ]
  },
  {
   "cell_type": "code",
   "execution_count": 17,
   "metadata": {},
   "outputs": [
    {
     "ename": "KeyError",
     "evalue": "'time'",
     "output_type": "error",
     "traceback": [
      "\u001b[0;31m---------------------------------------------------------------------------\u001b[0m",
      "\u001b[0;31mKeyError\u001b[0m                                  Traceback (most recent call last)",
      "\u001b[0;32m/tmp/ipykernel_35862/1504848097.py\u001b[0m in \u001b[0;36m<module>\u001b[0;34m\u001b[0m\n\u001b[1;32m      6\u001b[0m     \u001b[0mRESULTS_FILE\u001b[0m \u001b[0;34m=\u001b[0m \u001b[0;34mf'results_{st}.csv'\u001b[0m\u001b[0;34m\u001b[0m\u001b[0;34m\u001b[0m\u001b[0m\n\u001b[1;32m      7\u001b[0m \u001b[0;34m\u001b[0m\u001b[0m\n\u001b[0;32m----> 8\u001b[0;31m     \u001b[0mdf\u001b[0m \u001b[0;34m=\u001b[0m \u001b[0mread_dataframe\u001b[0m\u001b[0;34m(\u001b[0m\u001b[0mPATH\u001b[0m \u001b[0;34m+\u001b[0m \u001b[0mFILE\u001b[0m\u001b[0;34m,\u001b[0m \u001b[0;36m5\u001b[0m\u001b[0;34m)\u001b[0m\u001b[0;34m\u001b[0m\u001b[0;34m\u001b[0m\u001b[0m\n\u001b[0m\u001b[1;32m      9\u001b[0m \u001b[0;34m\u001b[0m\u001b[0m\n\u001b[1;32m     10\u001b[0m     results_df = df.groupby(['Classifier','Granularity', 'N_PCs']).agg({'Accuracy':['mean','std'],\n",
      "\u001b[0;32m/tmp/ipykernel_35862/357560702.py\u001b[0m in \u001b[0;36mread_dataframe\u001b[0;34m(PATH, N)\u001b[0m\n\u001b[1;32m     15\u001b[0m                 \u001b[0maux_dict\u001b[0m\u001b[0;34m[\u001b[0m\u001b[0;34m'Classifier'\u001b[0m\u001b[0;34m]\u001b[0m \u001b[0;34m=\u001b[0m \u001b[0mclf\u001b[0m\u001b[0;34m\u001b[0m\u001b[0;34m\u001b[0m\u001b[0m\n\u001b[1;32m     16\u001b[0m                 \u001b[0maux_dict\u001b[0m\u001b[0;34m[\u001b[0m\u001b[0;34m'Iteration'\u001b[0m\u001b[0;34m]\u001b[0m \u001b[0;34m=\u001b[0m \u001b[0mi\u001b[0m\u001b[0;34m\u001b[0m\u001b[0;34m\u001b[0m\u001b[0m\n\u001b[0;32m---> 17\u001b[0;31m                 \u001b[0maux_dict\u001b[0m\u001b[0;34m[\u001b[0m\u001b[0;34m'Time'\u001b[0m\u001b[0;34m]\u001b[0m \u001b[0;34m=\u001b[0m \u001b[0mresults_dict\u001b[0m\u001b[0;34m[\u001b[0m\u001b[0mclf\u001b[0m\u001b[0;34m]\u001b[0m\u001b[0;34m[\u001b[0m\u001b[0;34m'time'\u001b[0m\u001b[0;34m]\u001b[0m\u001b[0;34m\u001b[0m\u001b[0;34m\u001b[0m\u001b[0m\n\u001b[0m\u001b[1;32m     18\u001b[0m                 \u001b[0mdf\u001b[0m \u001b[0;34m=\u001b[0m \u001b[0mdf\u001b[0m\u001b[0;34m.\u001b[0m\u001b[0mappend\u001b[0m\u001b[0;34m(\u001b[0m\u001b[0maux_dict\u001b[0m\u001b[0;34m,\u001b[0m \u001b[0mignore_index\u001b[0m\u001b[0;34m=\u001b[0m\u001b[0;32mTrue\u001b[0m\u001b[0;34m)\u001b[0m\u001b[0;34m\u001b[0m\u001b[0;34m\u001b[0m\u001b[0m\n\u001b[1;32m     19\u001b[0m \u001b[0;34m\u001b[0m\u001b[0m\n",
      "\u001b[0;31mKeyError\u001b[0m: 'time'"
     ]
    }
   ],
   "source": [
    "input_id = 0\n",
    "\n",
    "for st in ['union', 'intersection']:\n",
    "    PATH = f\"Classification\"\n",
    "    FILE = \"/Classifiers_result__{}__%i__{}__.pkl\".format(input_id, st)\n",
    "    RESULTS_FILE = f'results_{st}.csv'\n",
    "            \n",
    "    df = read_dataframe(PATH + FILE, 5)\n",
    "                \n",
    "    results_df = df.groupby(['Classifier','Granularity', 'N_PCs']).agg({'Accuracy':['mean','std'],\n",
    "                                                                    'features':['mean','std'],\n",
    "                                                                    'variation':['mean','std']})\n",
    "    \n",
    "    df['Time[s]'] = df['Time'].dt.total_seconds()    \n",
    "    time_df = df.groupby(['Classifier','Granularity', 'N_PCs']).agg({'Time[s]':['mean','std']})\n",
    "    \n",
    "    results_df = pd.concat([results_df, time_df], axis=1)\n",
    "                \n",
    "    results_df.to_csv('Results/' + RESULTS_FILE)"
   ]
  },
  {
   "cell_type": "markdown",
   "metadata": {},
   "source": [
    "# MATRIZ DE CONFUSÃO"
   ]
  },
  {
   "cell_type": "code",
   "execution_count": 13,
   "metadata": {},
   "outputs": [],
   "source": [
    "best_classifier = \"Neural Net\"\n",
    "\n",
    "confusion_matrix = df[(df['Classifier'] == best_classifier)]['matrix'].sum()"
   ]
  },
  {
   "cell_type": "code",
   "execution_count": 14,
   "metadata": {},
   "outputs": [
    {
     "data": {
      "image/png": "[encoded data removed]",
      "text/plain": [
       "<Figure size 504x504 with 1 Axes>"
      ]
     },
     "metadata": {
      "needs_background": "light"
     },
     "output_type": "display_data"
    }
   ],
   "source": [
    "plt.figure(figsize=(7,7))\n",
    "\n",
    "g = sns.heatmap(confusion_matrix, \n",
    "            cmap='GnBu', \n",
    "            fmt='d', \n",
    "            annot=True, \n",
    "            cbar=False, \n",
    "            annot_kws={'fontsize':20},\n",
    "            xticklabels=['Adequada', 'Intermediária', 'Inadequada'],\n",
    "            yticklabels=['Adequada', 'Intermediária', 'Inadequada'])\n",
    "g.set_yticklabels(labels=g.get_yticklabels(), va='center', fontsize=15)\n",
    "g.set_xticklabels(labels=g.get_xticklabels(), fontsize=15)\n",
    "\n",
    "\n",
    "plt.ylabel('Valor Real\\n', fontsize=20)\n",
    "plt.xlabel('\\nValor Predito', fontsize=20)\n",
    "plt.savefig('Figures/confusion_matrix.png', bbox_inches='tight')\n",
    "plt.show()"
   ]
  }
 ],
 "metadata": {
  "kernelspec": {
   "display_name": "Python 3",
   "language": "python",
   "name": "python3"
  },
  "language_info": {
   "codemirror_mode": {
    "name": "ipython",
    "version": 3
   },
   "file_extension": ".py",
   "mimetype": "text/x-python",
   "name": "python",
   "nbconvert_exporter": "python",
   "pygments_lexer": "ipython3",
   "version": "3.7.13"
  },
  "vscode": {
   "interpreter": {
    "hash": "29d92f31f0f471335b2a7959c71fe4c00bd4ed6cebd7359a14052d7820029a20"
   }
  }
 },
 "nbformat": 4,
 "nbformat_minor": 4
}
